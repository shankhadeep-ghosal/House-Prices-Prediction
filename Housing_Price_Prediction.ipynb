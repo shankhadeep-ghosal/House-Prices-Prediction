{
  "cells": [
    {
      "metadata": {
        "_uuid": "b6269c0e8f417f82daf093dda8fa0da6d2c57d86",
        "_cell_guid": "e81ee64d-e474-4662-9036-ce23df615199"
      },
      "cell_type": "markdown",
      "source": "# Introduction\n**This will be your workspace for the [Machine Learning course](https://www.kaggle.com/learn/machine-learning).**\n\nYou will need to translate the concepts to work with the data in this notebook, the Iowa data. Each page in the Machine Learning course includes instructions for what code to write at that step in the course.\n\n# Write Your Code Below"
    },
    {
      "metadata": {
        "_uuid": "1c728098629e1301643443b1341556a15c089b2b",
        "_cell_guid": "86b26423-563a-4fa1-a595-89e25ff93089",
        "trusted": true,
        "scrolled": true
      },
      "cell_type": "code",
      "source": "import pandas as pd\n\nmain_file_path = '../input/house-prices-advanced-regression-techniques/train.csv' # this is the path to the Iowa data that you will use\ndata = pd.read_csv(main_file_path)\n\nprint(data.describe())",
      "execution_count": 1,
      "outputs": [
        {
          "output_type": "stream",
          "text": "                Id   MSSubClass      ...             YrSold      SalePrice\ncount  1460.000000  1460.000000      ...        1460.000000    1460.000000\nmean    730.500000    56.897260      ...        2007.815753  180921.195890\nstd     421.610009    42.300571      ...           1.328095   79442.502883\nmin       1.000000    20.000000      ...        2006.000000   34900.000000\n25%     365.750000    20.000000      ...        2007.000000  129975.000000\n50%     730.500000    50.000000      ...        2008.000000  163000.000000\n75%    1095.250000    70.000000      ...        2009.000000  214000.000000\nmax    1460.000000   190.000000      ...        2010.000000  755000.000000\n\n[8 rows x 38 columns]\n",
          "name": "stdout"
        }
      ]
    },
    {
      "metadata": {
        "trusted": true,
        "_uuid": "81c4adc519246490f89b8b92a21476e0d97d7c19"
      },
      "cell_type": "code",
      "source": "# Check the columns name\nprint(data.columns)",
      "execution_count": 2,
      "outputs": [
        {
          "output_type": "stream",
          "text": "Index(['Id', 'MSSubClass', 'MSZoning', 'LotFrontage', 'LotArea', 'Street',\n       'Alley', 'LotShape', 'LandContour', 'Utilities', 'LotConfig',\n       'LandSlope', 'Neighborhood', 'Condition1', 'Condition2', 'BldgType',\n       'HouseStyle', 'OverallQual', 'OverallCond', 'YearBuilt', 'YearRemodAdd',\n       'RoofStyle', 'RoofMatl', 'Exterior1st', 'Exterior2nd', 'MasVnrType',\n       'MasVnrArea', 'ExterQual', 'ExterCond', 'Foundation', 'BsmtQual',\n       'BsmtCond', 'BsmtExposure', 'BsmtFinType1', 'BsmtFinSF1',\n       'BsmtFinType2', 'BsmtFinSF2', 'BsmtUnfSF', 'TotalBsmtSF', 'Heating',\n       'HeatingQC', 'CentralAir', 'Electrical', '1stFlrSF', '2ndFlrSF',\n       'LowQualFinSF', 'GrLivArea', 'BsmtFullBath', 'BsmtHalfBath', 'FullBath',\n       'HalfBath', 'BedroomAbvGr', 'KitchenAbvGr', 'KitchenQual',\n       'TotRmsAbvGrd', 'Functional', 'Fireplaces', 'FireplaceQu', 'GarageType',\n       'GarageYrBlt', 'GarageFinish', 'GarageCars', 'GarageArea', 'GarageQual',\n       'GarageCond', 'PavedDrive', 'WoodDeckSF', 'OpenPorchSF',\n       'EnclosedPorch', '3SsnPorch', 'ScreenPorch', 'PoolArea', 'PoolQC',\n       'Fence', 'MiscFeature', 'MiscVal', 'MoSold', 'YrSold', 'SaleType',\n       'SaleCondition', 'SalePrice'],\n      dtype='object')\n",
          "name": "stdout"
        }
      ]
    },
    {
      "metadata": {
        "trusted": true,
        "_uuid": "ea9ce5e064ea20bcf41de10e08cb05e4f2d21c79"
      },
      "cell_type": "code",
      "source": "#Selection of columns\nprint(data.SalePrice.head())\ndata_subset1=['Id','SalePrice']\ntwo_col_data=data[data_subset1]\ntwo_col_data.describe()\n",
      "execution_count": 3,
      "outputs": [
        {
          "output_type": "stream",
          "text": "0    208500\n1    181500\n2    223500\n3    140000\n4    250000\nName: SalePrice, dtype: int64\n",
          "name": "stdout"
        },
        {
          "output_type": "execute_result",
          "execution_count": 3,
          "data": {
            "text/plain": "                Id      SalePrice\ncount  1460.000000    1460.000000\nmean    730.500000  180921.195890\nstd     421.610009   79442.502883\nmin       1.000000   34900.000000\n25%     365.750000  129975.000000\n50%     730.500000  163000.000000\n75%    1095.250000  214000.000000\nmax    1460.000000  755000.000000",
            "text/html": "<div>\n<style scoped>\n    .dataframe tbody tr th:only-of-type {\n        vertical-align: middle;\n    }\n\n    .dataframe tbody tr th {\n        vertical-align: top;\n    }\n\n    .dataframe thead th {\n        text-align: right;\n    }\n</style>\n<table border=\"1\" class=\"dataframe\">\n  <thead>\n    <tr style=\"text-align: right;\">\n      <th></th>\n      <th>Id</th>\n      <th>SalePrice</th>\n    </tr>\n  </thead>\n  <tbody>\n    <tr>\n      <th>count</th>\n      <td>1460.000000</td>\n      <td>1460.000000</td>\n    </tr>\n    <tr>\n      <th>mean</th>\n      <td>730.500000</td>\n      <td>180921.195890</td>\n    </tr>\n    <tr>\n      <th>std</th>\n      <td>421.610009</td>\n      <td>79442.502883</td>\n    </tr>\n    <tr>\n      <th>min</th>\n      <td>1.000000</td>\n      <td>34900.000000</td>\n    </tr>\n    <tr>\n      <th>25%</th>\n      <td>365.750000</td>\n      <td>129975.000000</td>\n    </tr>\n    <tr>\n      <th>50%</th>\n      <td>730.500000</td>\n      <td>163000.000000</td>\n    </tr>\n    <tr>\n      <th>75%</th>\n      <td>1095.250000</td>\n      <td>214000.000000</td>\n    </tr>\n    <tr>\n      <th>max</th>\n      <td>1460.000000</td>\n      <td>755000.000000</td>\n    </tr>\n  </tbody>\n</table>\n</div>"
          },
          "metadata": {}
        }
      ]
    },
    {
      "metadata": {
        "trusted": true,
        "collapsed": true,
        "_uuid": "75cf61b17bb74b0783632fb00b6bfe55f48893e4"
      },
      "cell_type": "code",
      "source": "# Prediction Target \ny= data.SalePrice\n# Choosing Predictors\npredictors_house_price = ['LotArea', 'YearBuilt', '1stFlrSF', '2ndFlrSF', 'FullBath', 'BedroomAbvGr', 'TotRmsAbvGrd']\nX = data[predictors_house_price]\n\n# split data into training and validation data, for both predictors and target\n# The split is based on a random number generator. Supplying a numeric value to\n# the random_state argument guarantees we get the same split every time we\n\nfrom sklearn.model_selection import train_test_split\n\ntrain_X, val_X, train_y, val_y = train_test_split(X, y,random_state = 0)",
      "execution_count": 4,
      "outputs": []
    },
    {
      "metadata": {
        "trusted": true,
        "_uuid": "2f4585b8cdd7f3db026beb10a18a9e8692d0e501"
      },
      "cell_type": "code",
      "source": "from sklearn.tree import DecisionTreeRegressor\nfrom sklearn.metrics import mean_absolute_error\n\n# Building model by validate it by MAE and choosing the max_leaf_nodes based on the lowest value of MAE\ndef get_mae(max_leaf_nodes, predictors_train, predictors_val, targ_train, targ_val):\n    iowa_model = DecisionTreeRegressor(max_leaf_nodes=max_leaf_nodes, random_state=0)\n    iowa_model.fit(predictors_train, targ_train)\n    iowa_prdeicted_price = iowa_model.predict(predictors_val)\n    MAE = mean_absolute_error(targ_val, iowa_prdeicted_price)\n    return(MAE)\n\n# Choosing the sweet point between Overfitting and underfitting\nfor max_leaf_nodes in [5, 50, 75, 80, 85, 90, 95, 100, 500, 5000]:\n    my_mae = get_mae(max_leaf_nodes, predictors_train=train_X, predictors_val=val_X, targ_train=train_y, targ_val=val_y)\n    print(\"Max leaf nodes: %d  \\t\\t Mean Absolute Error:  %d\" %(max_leaf_nodes, my_mae))\n    \n\n",
      "execution_count": 5,
      "outputs": [
        {
          "output_type": "stream",
          "text": "Max leaf nodes: 5  \t\t Mean Absolute Error:  35190\nMax leaf nodes: 50  \t\t Mean Absolute Error:  27825\nMax leaf nodes: 75  \t\t Mean Absolute Error:  27455\nMax leaf nodes: 80  \t\t Mean Absolute Error:  27280\nMax leaf nodes: 85  \t\t Mean Absolute Error:  27648\nMax leaf nodes: 90  \t\t Mean Absolute Error:  28284\nMax leaf nodes: 95  \t\t Mean Absolute Error:  28503\nMax leaf nodes: 100  \t\t Mean Absolute Error:  28653\nMax leaf nodes: 500  \t\t Mean Absolute Error:  32662\nMax leaf nodes: 5000  \t\t Mean Absolute Error:  33382\n",
          "name": "stdout"
        }
      ]
    },
    {
      "metadata": {
        "trusted": true,
        "_uuid": "dd8e46e57e8acd9614674312b7d079b8cded1bcd"
      },
      "cell_type": "code",
      "source": "# Initilise max_leaf_nodes value based on minimum MAE\nmax_leaf_nodes = 80\n# Define model\niowa_model_DT = DecisionTreeRegressor(max_leaf_nodes=max_leaf_nodes, random_state=0)\n\n# Fit model\niowa_model_DT.fit(train_X, train_y)\n\n# Prediction of sales price\niowa_prdeicted_price_DT = iowa_model_DT.predict(val_X)\nprint(iowa_prdeicted_price_DT)",
      "execution_count": 7,
      "outputs": [
        {
          "output_type": "stream",
          "text": "[264600.         162182.69230769 113474.39285714 193680.95238095\n  84282.75862069 113474.39285714 350000.         162182.69230769\n 755000.         172054.         190610.6        168629.16666667\n 228221.25       125682.46551724 113474.39285714 139592.91176471\n 235999.94117647 141846.42857143 139592.91176471 132365.25\n 113474.39285714 141846.42857143 125682.46551724 172054.\n 162182.69230769 132365.25       195579.375       84282.75862069\n 318667.84615385 113474.39285714 146950.98039216 172054.\n 125682.46551724 298564.22727273 318667.84615385 172054.\n 206603.25       125682.46551724 228221.25       334958.33333333\n 250875.         133150.52083333 190610.6        318667.84615385\n 298564.22727273 146950.98039216 113474.39285714 125682.46551724\n 162182.69230769 113474.39285714 334958.33333333 144131.81818182\n 168629.16666667 114852.17391304 219342.85714286 125682.46551724\n 132365.25       195579.375      139592.91176471 114852.17391304\n 144131.81818182 113474.39285714 146950.98039216 150714.28571429\n 219342.85714286 139592.91176471 113474.39285714 195579.375\n 132365.25       195579.375      172054.         113474.39285714\n 113474.39285714 190610.6        113474.39285714 256609.89473684\n 144131.81818182  90647.36842105 298564.22727273 146950.98039216\n 125682.46551724 125682.46551724 113474.39285714 141846.42857143\n 268294.         190610.6         90647.36842105 190610.6\n 190610.6        113474.39285714 195579.375      162182.69230769\n 195579.375      228221.25       190610.6        146950.98039216\n 206603.25       268294.         125682.46551724 133150.52083333\n 318667.84615385 228221.25       146950.98039216 162182.69230769\n  90647.36842105 298564.22727273 172054.         113474.39285714\n 172054.         132365.25        84282.75862069 144131.81818182\n 268294.         114852.17391304 172054.         138264.625\n 484168.5        144131.81818182 193680.95238095 235999.94117647\n 141846.42857143 172054.         144131.81818182 193680.95238095\n 219342.85714286 206603.25       318667.84615385 190610.6\n 190610.6        168629.16666667 190610.6        190610.6\n 186425.         168629.16666667 125682.46551724 219342.85714286\n 113474.39285714 190610.6        113474.39285714 172054.\n 150714.28571429 141846.42857143 264600.         144131.81818182\n 168629.16666667 195579.375      206603.25       113474.39285714\n 307320.33333333 233506.         146950.98039216 269375.\n 399058.5        132675.         138264.625      186425.\n 133150.52083333 162182.69230769 141846.42857143 172054.\n 125682.46551724 146950.98039216 172054.         125682.46551724\n 233506.         113474.39285714 146950.98039216 334958.33333333\n 190610.6        172054.         150714.28571429 162182.69230769\n 190610.6        141846.42857143 184250.         114852.17391304\n 139592.91176471 271250.         113474.39285714 144131.81818182\n 168629.16666667 193680.95238095  84282.75862069 318667.84615385\n 113474.39285714 162182.69230769  84282.75862069 190610.6\n 190610.6        141846.42857143 141846.42857143 146950.98039216\n 233506.         141846.42857143 113474.39285714 144131.81818182\n  84282.75862069 146950.98039216 162182.69230769 138264.625\n 139592.91176471 190610.6        114852.17391304 144131.81818182\n 132365.25       186425.         139592.91176471 233506.\n 254200.         113474.39285714 141846.42857143 219342.85714286\n 113474.39285714  90647.36842105 264600.         217158.33333333\n 168629.16666667 298564.22727273 256609.89473684  84282.75862069\n 150714.28571429 168629.16666667 132365.25       125682.46551724\n 206603.25       228221.25       190610.6        264600.\n 139592.91176471 168629.16666667 113474.39285714  90647.36842105\n 125682.46551724 141846.42857143 235999.94117647 138264.625\n 162182.69230769 113474.39285714 133150.52083333 150714.28571429\n  84282.75862069 172054.         235999.94117647 235999.94117647\n 168629.16666667 141846.42857143 139592.91176471 195579.375\n 113474.39285714 190610.6        150714.28571429 235999.94117647\n 113474.39285714 435565.5        190610.6        242833.33333333\n 113474.39285714 206603.25       184750.         583723.66666667\n 172054.         162182.69230769 162182.69230769 132365.25\n 399058.5        395192.         186500.          90647.36842105\n 162182.69230769 269375.         162182.69230769 193680.95238095\n 113474.39285714 185353.84615385 132365.25       228221.25\n 240000.         162182.69230769 228221.25       113474.39285714\n 125682.46551724 318667.84615385 162182.69230769 113474.39285714\n 190610.6        250875.          84282.75862069 269375.\n 424401.         193680.95238095  84282.75862069  90647.36842105\n 402772.2        125682.46551724 113474.39285714 318667.84615385\n 233506.         190610.6        139592.91176471 172054.\n  84282.75862069 113474.39285714 195579.375      190610.6\n 162182.69230769 133150.52083333 133150.52083333 150714.28571429\n 172054.         190610.6        113474.39285714 172054.\n 138264.625      113474.39285714 114852.17391304 141846.42857143\n 233506.         133150.52083333 190610.6        193680.95238095\n 113474.39285714 219342.85714286 113474.39285714 268294.\n 132365.25       235999.94117647 125682.46551724 399058.5\n 185353.84615385 139592.91176471 125682.46551724 235999.94117647\n 162182.69230769 190610.6        168629.16666667 144131.81818182\n 139592.91176471 172054.         138264.625      113474.39285714\n 399058.5        190610.6        162182.69230769 228221.25\n 168629.16666667 162182.69230769  84282.75862069 113474.39285714\n 113474.39285714 125682.46551724 195579.375      298564.22727273\n 113474.39285714 113474.39285714 190610.6        399058.5\n 298564.22727273 162182.69230769 293500.         217158.33333333\n 243319.88888889 193680.95238095 233506.         233506.\n  90647.36842105]\n",
          "name": "stdout"
        }
      ]
    },
    {
      "metadata": {
        "trusted": true,
        "_uuid": "b3b1ee3e943db2eb32b1704c2d49204688a9ee87"
      },
      "cell_type": "code",
      "source": "# Model Validation\nfrom sklearn.metrics import mean_absolute_error\n\n# Mean Absolute Error\nMAE = mean_absolute_error(val_y, iowa_prdeicted_price_DT)\nprint(MAE)",
      "execution_count": 9,
      "outputs": [
        {
          "output_type": "stream",
          "text": "27280.23209035945\n",
          "name": "stdout"
        }
      ]
    },
    {
      "metadata": {
        "trusted": true,
        "_uuid": "65dfbbb797203e245aef4197052403e0324b07b9"
      },
      "cell_type": "code",
      "source": "from sklearn.ensemble import RandomForestRegressor\nfrom sklearn.metrics import mean_absolute_error\n\niowa_forest_model = RandomForestRegressor()\niowa_forest_model.fit(train_X, train_y)\niowa_prdeicted_price_FM = iowa_forest_model.predict(val_X)\nprint(mean_absolute_error(val_y, iowa_prdeicted_price_FM))",
      "execution_count": 10,
      "outputs": [
        {
          "output_type": "stream",
          "text": "22771.44894977169\n",
          "name": "stdout"
        }
      ]
    },
    {
      "metadata": {
        "_uuid": "64fde43ae8511da761549c42f24eccb5d1039271",
        "_cell_guid": "06a2e301-f224-40d0-8709-a942b24cd124"
      },
      "cell_type": "markdown",
      "source": "\n**If you have any questions or hit any problems, come to the [Learn Discussion](https://www.kaggle.com/learn-forum) for help. **\n\n**Return to [ML Course Index](https://www.kaggle.com/learn/machine-learning)**"
    },
    {
      "metadata": {
        "_uuid": "704e07440d7d4ef7ad3cf25c0a966c000bb8eeef",
        "_cell_guid": "895df7f1-dab8-4c54-ab7e-9a865146deac"
      },
      "cell_type": "markdown",
      "source": ""
    }
  ],
  "metadata": {
    "kernelspec": {
      "display_name": "Python 3",
      "language": "python",
      "name": "python3"
    },
    "language_info": {
      "name": "python",
      "version": "3.6.6",
      "mimetype": "text/x-python",
      "codemirror_mode": {
        "name": "ipython",
        "version": 3
      },
      "pygments_lexer": "ipython3",
      "nbconvert_exporter": "python",
      "file_extension": ".py"
    }
  },
  "nbformat": 4,
  "nbformat_minor": 1
}